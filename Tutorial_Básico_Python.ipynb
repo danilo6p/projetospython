{
  "nbformat": 4,
  "nbformat_minor": 0,
  "metadata": {
    "colab": {
      "name": "Tutorial_Básico_Python.ipynb",
      "provenance": [],
      "collapsed_sections": []
    },
    "kernelspec": {
      "display_name": "Python 3",
      "language": "python",
      "name": "python3"
    },
    "language_info": {
      "codemirror_mode": {
        "name": "ipython",
        "version": 3
      },
      "file_extension": ".py",
      "mimetype": "text/x-python",
      "name": "python",
      "nbconvert_exporter": "python",
      "pygments_lexer": "ipython3",
      "version": "3.7.6"
    }
  },
  "cells": [
    {
      "cell_type": "markdown",
      "metadata": {
        "id": "dzNng6vCL9eP"
      },
      "source": [
        "#Tutorial Básico da linguagem Python"
      ]
    },
    {
      "cell_type": "markdown",
      "metadata": {
        "id": "0vJLt3JRL9eR"
      },
      "source": [
        "Este tutorial apresenta uma introdução a alguns aspectos da linguagem de programação Python. As informações apresentadas aqui não cobrirão todos os detalhes desta linguagem. No entanto, livros inteiros se concentram em Python.  O leitor é encorajado a consultar fontes adicionais na linguagem Python. Um tutorial completo pode ser consultado em: https://docs.python.org/pt-br/3/tutorial/."
      ]
    },
    {
      "cell_type": "markdown",
      "metadata": {
        "id": "qVrTo-LhL9eS"
      },
      "source": [
        "##Introdução"
      ]
    },
    {
      "cell_type": "markdown",
      "metadata": {
        "id": "9t1gKp9PL9eV"
      },
      "source": [
        "A linguagem Python foi desenvolvida em 1991 pelo holandês Guido van Rossum. Python é uma linguagem de propósito geral, visualmente limpa e de sintaxe elegante, que não faz uso excessivo de marcações (ponto ou ponto e vírgula), marcadores (chaves, colchetes ou parênteses) e de palavras especiais (begin/end). \n",
        "\n",
        "Considerada de fácil aprendizado, compreensão e leitura. É uma linguagem interpretada com tipagem dinâmica (não exige declarações de tipos de dados) que pode ser facilmente transformada para uma aplicação por meio da importação de bibliotecas. É uma linguagem de alto nível, orientada a objetos, mas que permite o usuário programar de forma procedural, se desejar;\n",
        "\n",
        "Em Python a identação é fundamental, pois o código não irá funcionar se não estiver devidamente identado (artifício que indica quais estruturas estão subordinadas sem a necessidade de uso de chaves como acontece em outras linguagens);\n",
        "\n",
        "Python é um software livre (usuários e colaboradores podem modificar seu código fonte e compartilhar essas novas atualizações, contribuindo para o constante aperfeiçoamento da linguagem).\n",
        "\n"
      ]
    },
    {
      "cell_type": "markdown",
      "metadata": {
        "id": "nxvEkGXPM3Xh"
      },
      "source": [
        "###Versão do Python"
      ]
    },
    {
      "cell_type": "code",
      "metadata": {
        "id": "1L4Am0QATgOc",
        "outputId": "8ceb92f8-b797-46d8-9410-22a1231b613f",
        "colab": {
          "base_uri": "https://localhost:8080/"
        }
      },
      "source": [
        "!python --version"
      ],
      "execution_count": 27,
      "outputs": [
        {
          "output_type": "stream",
          "name": "stdout",
          "text": [
            "Python 3.7.13\n"
          ]
        }
      ]
    },
    {
      "cell_type": "markdown",
      "metadata": {
        "id": "NwS_hu4xL9eo"
      },
      "source": [
        "###Comando de saída (impressão)"
      ]
    },
    {
      "cell_type": "code",
      "metadata": {
        "id": "SM0NWpEQeYNd",
        "outputId": "9d318844-2512-4af6-b22a-d094f09ca2ed",
        "colab": {
          "base_uri": "https://localhost:8080/"
        }
      },
      "source": [
        "print(\"Hello World!\")"
      ],
      "execution_count": 28,
      "outputs": [
        {
          "output_type": "stream",
          "name": "stdout",
          "text": [
            "Hello World!\n"
          ]
        }
      ]
    },
    {
      "cell_type": "markdown",
      "metadata": {
        "id": "Md5c2Pvxel9o"
      },
      "source": [
        "###Comentários"
      ]
    },
    {
      "cell_type": "code",
      "metadata": {
        "id": "L5cURl2CV-i-",
        "outputId": "e55d14e0-3f00-439d-c01e-10c87f7a367e",
        "colab": {
          "base_uri": "https://localhost:8080/"
        }
      },
      "source": [
        "# Comentário de uma única linha (não tem efeito no programa)\n",
        "print(\"Hello World!\") # Diga alô mundo"
      ],
      "execution_count": 29,
      "outputs": [
        {
          "output_type": "stream",
          "name": "stdout",
          "text": [
            "Hello World!\n"
          ]
        }
      ]
    },
    {
      "cell_type": "markdown",
      "metadata": {
        "id": "AMSN_ZWAeOQ4"
      },
      "source": [
        "###Variáveis\n",
        "\n",
        "Uma variável não pode ser utilizada em uma expressão sem ter sido inicializada. A tipagem é dinâmica."
      ]
    },
    {
      "cell_type": "code",
      "metadata": {
        "id": "2Sm00f7ofzHt",
        "outputId": "3216eaae-6b21-4bef-97f8-f2a45cc25f3e",
        "colab": {
          "base_uri": "https://localhost:8080/"
        }
      },
      "source": [
        "preco  = 1000\n",
        "desconto = 0.05\n",
        "preco_final = preco - desconto * preco\n",
        "print(preco_final)\n",
        "print(type(preco_final))"
      ],
      "execution_count": 30,
      "outputs": [
        {
          "output_type": "stream",
          "name": "stdout",
          "text": [
            "950.0\n",
            "<class 'float'>\n"
          ]
        }
      ]
    },
    {
      "cell_type": "markdown",
      "metadata": {
        "id": "j7EB7oYXha7d"
      },
      "source": [
        "Também podemos inicializar mais de uma variável:"
      ]
    },
    {
      "cell_type": "code",
      "metadata": {
        "id": "fYrxnyothdGT",
        "outputId": "12be970b-6b9e-4fe5-9273-c0df6c1ee83d",
        "colab": {
          "base_uri": "https://localhost:8080/"
        }
      },
      "source": [
        "a, b = 10, 20\n",
        "print('a =', a, 'e b =', b)"
      ],
      "execution_count": 31,
      "outputs": [
        {
          "output_type": "stream",
          "name": "stdout",
          "text": [
            "a = 10 e b = 20\n"
          ]
        }
      ]
    },
    {
      "cell_type": "markdown",
      "metadata": {
        "id": "w8O8jBMChxFb"
      },
      "source": [
        "Podemos iniciar as variáveis com o valor None."
      ]
    },
    {
      "cell_type": "code",
      "metadata": {
        "id": "GAyy6iZGhyjR",
        "outputId": "f1979d5d-01ef-4be5-fc4d-ac026d9c169f",
        "colab": {
          "base_uri": "https://localhost:8080/"
        }
      },
      "source": [
        "x = None\n",
        "print(x)\n",
        "print(type(x))"
      ],
      "execution_count": 32,
      "outputs": [
        {
          "output_type": "stream",
          "name": "stdout",
          "text": [
            "None\n",
            "<class 'NoneType'>\n"
          ]
        }
      ]
    },
    {
      "cell_type": "markdown",
      "metadata": {
        "id": "YoRJvulPiUK7"
      },
      "source": [
        "###Operadores aritméticos"
      ]
    },
    {
      "cell_type": "code",
      "metadata": {
        "id": "sk_8DFcuL9ey",
        "outputId": "92a0c5f3-41c5-4803-c68e-9787d5ed4ff2",
        "colab": {
          "base_uri": "https://localhost:8080/"
        }
      },
      "source": [
        "x = 10\n",
        "print(type(x))\n",
        "print(x + 1)   # Adição\n",
        "print(x - 1)   # Subtração\n",
        "print(x * 2)   # Multiplicação\n",
        "print(x ** 2)  # Exponenciação"
      ],
      "execution_count": 33,
      "outputs": [
        {
          "output_type": "stream",
          "name": "stdout",
          "text": [
            "<class 'int'>\n",
            "11\n",
            "9\n",
            "20\n",
            "100\n"
          ]
        }
      ]
    },
    {
      "cell_type": "code",
      "metadata": {
        "id": "U4Jl8K0tL9e4",
        "outputId": "bebbda06-d555-4ebe-9714-53433c887347",
        "colab": {
          "base_uri": "https://localhost:8080/"
        }
      },
      "source": [
        "x += 1\n",
        "print(x)\n",
        "x *= 2\n",
        "print(x)"
      ],
      "execution_count": 34,
      "outputs": [
        {
          "output_type": "stream",
          "name": "stdout",
          "text": [
            "11\n",
            "22\n"
          ]
        }
      ]
    },
    {
      "cell_type": "markdown",
      "metadata": {
        "id": "EqRS7qhBL9fC"
      },
      "source": [
        "###Booleanos (lógicos)"
      ]
    },
    {
      "cell_type": "markdown",
      "metadata": {
        "id": "Nv_LIVOJL9fD"
      },
      "source": [
        "Python implementa todos os operadores usuais para lógica booleana, mas usa palavras em inglês em vez de símbolos (&&, ||, etc.):"
      ]
    },
    {
      "cell_type": "code",
      "metadata": {
        "id": "RvoImwgGL9fE",
        "outputId": "df49ddfd-fd4b-463d-faf7-881f5538ca1e",
        "colab": {
          "base_uri": "https://localhost:8080/"
        }
      },
      "source": [
        "t, f = True, False\n",
        "print(type(t))"
      ],
      "execution_count": 35,
      "outputs": [
        {
          "output_type": "stream",
          "name": "stdout",
          "text": [
            "<class 'bool'>\n"
          ]
        }
      ]
    },
    {
      "cell_type": "markdown",
      "metadata": {
        "id": "YQgmQfOgL9fI"
      },
      "source": [
        "Algumas operações lógicas:"
      ]
    },
    {
      "cell_type": "code",
      "metadata": {
        "id": "6zYm7WzCL9fK",
        "outputId": "fb4e8f2b-cfb8-437b-dc73-b8fb523de757",
        "colab": {
          "base_uri": "https://localhost:8080/"
        }
      },
      "source": [
        "print(t and f) \n",
        "print(t or f)  \n",
        "print(not t)   \n",
        "print(t != f)   "
      ],
      "execution_count": 36,
      "outputs": [
        {
          "output_type": "stream",
          "name": "stdout",
          "text": [
            "False\n",
            "True\n",
            "False\n",
            "True\n"
          ]
        }
      ]
    },
    {
      "cell_type": "markdown",
      "metadata": {
        "id": "UQnQWFEyL9fP"
      },
      "source": [
        "###Strings"
      ]
    },
    {
      "cell_type": "code",
      "metadata": {
        "id": "AijEDtPFL9fP",
        "outputId": "0afaf652-06a7-43c8-fbbd-56f03798bef2",
        "colab": {
          "base_uri": "https://localhost:8080/"
        }
      },
      "source": [
        "hello = 'hello'   # Strings podem usar aspas simples\n",
        "world = \"world\"   # ou duplas\n",
        "print(hello, len(hello))"
      ],
      "execution_count": 37,
      "outputs": [
        {
          "output_type": "stream",
          "name": "stdout",
          "text": [
            "hello 5\n"
          ]
        }
      ]
    },
    {
      "cell_type": "code",
      "metadata": {
        "id": "saDeaA7hL9fT",
        "outputId": "cd9a1edf-05d7-4707-b95e-bcb34260703c",
        "colab": {
          "base_uri": "https://localhost:8080/"
        }
      },
      "source": [
        "hw = hello + ' ' + world  # concatenação\n",
        "print(hw)"
      ],
      "execution_count": 38,
      "outputs": [
        {
          "output_type": "stream",
          "name": "stdout",
          "text": [
            "hello world\n"
          ]
        }
      ]
    },
    {
      "cell_type": "markdown",
      "metadata": {
        "id": "bUpl35bIL9fc"
      },
      "source": [
        "Alguns métodos aplicados em strings:"
      ]
    },
    {
      "cell_type": "code",
      "metadata": {
        "id": "VOxGatlsL9fd",
        "outputId": "aa5da3de-f0ae-4c96-f7f2-43dbc0492706",
        "colab": {
          "base_uri": "https://localhost:8080/"
        }
      },
      "source": [
        "s = \"hello\"\n",
        "print(s.capitalize())  # Capitalize\n",
        "print(s.upper())       # Caixa alta\n",
        "print(s.lower())       # Caixa baixa\n",
        "print(s.rjust(7))      # Justifica à direita preenchendo com espaços\n",
        "print(s.center(7))     # Centraliza preenchendo com espaços\n",
        "print(s.replace('l', '(ell)'))  # Substitui todas as instâncias de uma substring com outra"
      ],
      "execution_count": 39,
      "outputs": [
        {
          "output_type": "stream",
          "name": "stdout",
          "text": [
            "Hello\n",
            "HELLO\n",
            "hello\n",
            "  hello\n",
            " hello \n",
            "he(ell)(ell)o\n"
          ]
        }
      ]
    },
    {
      "cell_type": "markdown",
      "metadata": {
        "id": "tRI6DV1Pm799"
      },
      "source": [
        "Acessando pelo índice:"
      ]
    },
    {
      "cell_type": "code",
      "metadata": {
        "id": "eFg9aeqFm61c",
        "outputId": "e3138cf7-fd97-4294-d0d5-39faf050cf01",
        "colab": {
          "base_uri": "https://localhost:8080/"
        }
      },
      "source": [
        "str = 'python'\n",
        "print(str[0])\n",
        "print(str[1])"
      ],
      "execution_count": 40,
      "outputs": [
        {
          "output_type": "stream",
          "name": "stdout",
          "text": [
            "p\n",
            "y\n"
          ]
        }
      ]
    },
    {
      "cell_type": "markdown",
      "metadata": {
        "id": "7U3uDVJynrCq"
      },
      "source": [
        "###Cast - conversão de tipos"
      ]
    },
    {
      "cell_type": "code",
      "metadata": {
        "id": "KXH4Uekvnt3_",
        "outputId": "d06c26cf-5a60-4da2-d55f-ad5ce9b80f56",
        "colab": {
          "base_uri": "https://localhost:8080/"
        }
      },
      "source": [
        "x = '123'\n",
        "print(x)\n",
        "print(type(x))\n",
        "x = float(x)\n",
        "print(x)\n",
        "print(type(x))\n",
        "print(int(x))"
      ],
      "execution_count": 41,
      "outputs": [
        {
          "output_type": "stream",
          "name": "stdout",
          "text": [
            "123\n",
            "<class 'str'>\n",
            "123.0\n",
            "<class 'float'>\n",
            "123\n"
          ]
        }
      ]
    },
    {
      "cell_type": "markdown",
      "metadata": {
        "id": "207J7XcYpJCU"
      },
      "source": [
        "###Print de texto com variáveis"
      ]
    },
    {
      "cell_type": "code",
      "metadata": {
        "id": "R6Ix-7BfpNL_",
        "outputId": "de8e47b4-e72e-473b-b589-9dac1788c46d",
        "colab": {
          "base_uri": "https://localhost:8080/"
        }
      },
      "source": [
        "x = 5\n",
        "y = 2.5\n",
        "z = 'oi'\n",
        "print('x é igual a %d, y é igual a %.1f e z é igual a \\\"%s\\\" '%(x,y,z))\n",
        "print('x é igual a {}, y é igual a {} e z é igual a \\\"{}\\\" '.format(x,y,z))  # alternativa (existem outras)"
      ],
      "execution_count": 42,
      "outputs": [
        {
          "output_type": "stream",
          "name": "stdout",
          "text": [
            "x é igual a 5, y é igual a 2.5 e z é igual a \"oi\" \n",
            "x é igual a 5, y é igual a 2.5 e z é igual a \"oi\" \n"
          ]
        }
      ]
    },
    {
      "cell_type": "markdown",
      "metadata": {
        "id": "Z3Z6StZo12gz"
      },
      "source": [
        "### Leitura de dados (entradas)\n",
        "\n"
      ]
    },
    {
      "cell_type": "code",
      "metadata": {
        "id": "LaQTOLOB2TKj",
        "outputId": "1389bc32-e8f4-459e-e00f-189d137c3544",
        "colab": {
          "base_uri": "https://localhost:8080/"
        }
      },
      "source": [
        "x = int(input(\"Entre com um valor inteiro: \"))\n",
        "print(x)\n",
        "y = float(input(\"Entre com um valor real: \"))\n",
        "print(y)\n",
        "s = input(\"Digite um texto: \") # os dados de entrada serão strings por padrão\n",
        "print(s)\n",
        "print(type(s))"
      ],
      "execution_count": 43,
      "outputs": [
        {
          "output_type": "stream",
          "name": "stdout",
          "text": [
            "Entre com um valor inteiro: 1\n",
            "1\n",
            "Entre com um valor real: 1\n",
            "1.0\n",
            "Digite um texto: 1\n",
            "1\n",
            "<class 'str'>\n"
          ]
        }
      ]
    },
    {
      "cell_type": "markdown",
      "metadata": {
        "id": "YblHAXGyzune"
      },
      "source": [
        "###Estruturas de controle de seleção (if-else)"
      ]
    },
    {
      "cell_type": "code",
      "metadata": {
        "id": "5ynPUUebzyy8",
        "outputId": "05ed15b2-bdda-401a-91b7-057c3a09b9c5",
        "colab": {
          "base_uri": "https://localhost:8080/"
        }
      },
      "source": [
        "expressao = 0\n",
        "resp = -2\n",
        "if expressao == True:\n",
        "    print(\"true\")\n",
        "else:\n",
        "    print(\"false\")\n",
        "if resp > 5:\n",
        "    print(resp)\n",
        "    print(\"positivo\")  #observe que o bloco é definido pela identação\n",
        "elif resp < 5:\n",
        "    print(resp)\n",
        "    print(\"negativo\")  #observe que o bloco é definido pela identação\n",
        "else:\n",
        "    print(resp)\n",
        "    print(\"nulo\")  #observe que o bloco é definido pela identação"
      ],
      "execution_count": 44,
      "outputs": [
        {
          "output_type": "stream",
          "name": "stdout",
          "text": [
            "false\n",
            "-2\n",
            "negativo\n"
          ]
        }
      ]
    },
    {
      "cell_type": "markdown",
      "metadata": {
        "id": "OK9zArla0xb4"
      },
      "source": [
        "###Estruturas de controle de repetição"
      ]
    },
    {
      "cell_type": "markdown",
      "metadata": {
        "id": "QETP0ccd3TOw"
      },
      "source": [
        "###For"
      ]
    },
    {
      "cell_type": "code",
      "metadata": {
        "id": "w8JM1se-02DY",
        "outputId": "00bb0ead-6c85-4c10-e381-3da29acd0538",
        "colab": {
          "base_uri": "https://localhost:8080/"
        }
      },
      "source": [
        " soma = 0\n",
        " N = 52\n",
        " for contador in range(5):  # A função range() retorna uma série numérica no intervalo enviado como argumento\n",
        "    x = int(input(\"Entre com um valor inteiro: \"))\n",
        "    soma = soma + x\n",
        " # imprima o resultado\n",
        " print (\"O valor da soma dos\", N, \"numeros é\", soma)"
      ],
      "execution_count": 45,
      "outputs": [
        {
          "output_type": "stream",
          "name": "stdout",
          "text": [
            "Entre com um valor inteiro: 1\n",
            "Entre com um valor inteiro: 1\n",
            "Entre com um valor inteiro: 1\n",
            "Entre com um valor inteiro: 1\n",
            "Entre com um valor inteiro: 1\n",
            "O valor da soma dos 52 numeros é 5\n"
          ]
        }
      ]
    },
    {
      "cell_type": "markdown",
      "metadata": {
        "id": "8IdOol0s34ID"
      },
      "source": [
        "###While"
      ]
    },
    {
      "cell_type": "code",
      "metadata": {
        "id": "F4FyMrvk35Z6",
        "outputId": "ba3d22fd-01bc-4577-e826-3ab97392c1a8",
        "colab": {
          "base_uri": "https://localhost:8080/"
        }
      },
      "source": [
        "soma = 0\n",
        "contador = 1\n",
        "N = 5\n",
        "# repete N vezes o trecho de programa\n",
        "while contador <= N:\n",
        "    x = int(input(\"Entre com um valor inteiro: \"))\n",
        "    soma = soma + x\n",
        "    contador = contador + 1\n",
        " # imprima o resultado\n",
        "print (\"O valor da soma dos\", N, \"numeros é\", soma)"
      ],
      "execution_count": 47,
      "outputs": [
        {
          "output_type": "stream",
          "name": "stdout",
          "text": [
            "Entre com um valor inteiro: 1\n",
            "Entre com um valor inteiro: 1\n",
            "Entre com um valor inteiro: 1\n",
            "Entre com um valor inteiro: 1\n",
            "Entre com um valor inteiro: 1\n",
            "O valor da soma dos 5 numeros é 5\n"
          ]
        }
      ]
    },
    {
      "cell_type": "markdown",
      "metadata": {
        "id": "p-6hClFjL9fk"
      },
      "source": [
        "###Containers"
      ]
    },
    {
      "cell_type": "markdown",
      "metadata": {
        "id": "FD9H18eQL9fk"
      },
      "source": [
        "Python inclue diversos tipos de \"containers\": listas, dicionários, conjuntos e tuplas."
      ]
    },
    {
      "cell_type": "markdown",
      "metadata": {
        "id": "UsIWOe0LL9fn"
      },
      "source": [
        "###Listas"
      ]
    },
    {
      "cell_type": "markdown",
      "metadata": {
        "id": "wzxX7rgWL9fn"
      },
      "source": [
        "Uma lista é equivalente a um vetor (array), mas seu tamanho pode ser modificado e pode conter elementos de diferentes tipos."
      ]
    },
    {
      "cell_type": "code",
      "metadata": {
        "id": "hk3A8pPcL9fp",
        "outputId": "c6684963-1fb2-4193-8f92-83e6859de286",
        "colab": {
          "base_uri": "https://localhost:8080/"
        }
      },
      "source": [
        "list = [3, 1, 'Márcio']   # Cria uma lista\n",
        "print(list)\n",
        "print(list[0])\n",
        "print(list[-1])     # Índices negativos contam a partir do final da lista\n",
        "print(type(list))"
      ],
      "execution_count": 48,
      "outputs": [
        {
          "output_type": "stream",
          "name": "stdout",
          "text": [
            "[3, 1, 'Márcio']\n",
            "3\n",
            "Márcio\n",
            "<class 'list'>\n"
          ]
        }
      ]
    },
    {
      "cell_type": "markdown",
      "metadata": {
        "id": "Ct6P9X_vwfwP"
      },
      "source": [
        "Adicionando um elemento no final da lista:"
      ]
    },
    {
      "cell_type": "code",
      "metadata": {
        "id": "vJ0x5cF-L9fx",
        "outputId": "a4c7e2eb-3efc-485c-efb4-5eb8016acd65",
        "colab": {
          "base_uri": "https://localhost:8080/"
        }
      },
      "source": [
        "list.append('Leandro') \n",
        "print(list)  "
      ],
      "execution_count": 49,
      "outputs": [
        {
          "output_type": "stream",
          "name": "stdout",
          "text": [
            "[3, 1, 'Márcio', 'Leandro']\n"
          ]
        }
      ]
    },
    {
      "cell_type": "markdown",
      "metadata": {
        "id": "2ozSeRTqxKYh"
      },
      "source": [
        "Removendo o último elemento:"
      ]
    },
    {
      "cell_type": "code",
      "metadata": {
        "id": "cxVCNRTNL9f1",
        "outputId": "efa5cae8-241d-4d1b-bea6-f1628a789fd2",
        "colab": {
          "base_uri": "https://localhost:8080/"
        }
      },
      "source": [
        "x = list.pop()     # Remove and return the last element of the list\n",
        "print(list)"
      ],
      "execution_count": 50,
      "outputs": [
        {
          "output_type": "stream",
          "name": "stdout",
          "text": [
            "[3, 1, 'Márcio']\n"
          ]
        }
      ]
    },
    {
      "cell_type": "markdown",
      "metadata": {
        "id": "ovahhxd_L9f5"
      },
      "source": [
        "###Slicing"
      ]
    },
    {
      "cell_type": "code",
      "metadata": {
        "id": "ninq666bL9f6",
        "outputId": "9f566f78-7052-4068-e88c-48209ee58d08",
        "colab": {
          "base_uri": "https://localhost:8080/"
        }
      },
      "source": [
        "nums = [0, 1, 2, 3, 4] # cria uma lista\n",
        "print(nums)         # Imprime \"[0, 1, 2, 3, 4]\"\n",
        "print(nums[2:4])    # Pega um slice do índice 2 a 4 (exclusive)\n",
        "print(nums[2:])     # Pega um slice do índice 2 até o fim\n",
        "print(nums[:2])     # Pega um slice do começo até o indice 2 (exclusive)\n",
        "print(nums[:])      # Pega a lista toda\"\n",
        "print(nums[:-1])    # Índices podem ser negativos (exclue o último elemento)\n",
        "print(nums[:-1])    # Índices podem ser negativos (exclue os dois últimos)\n",
        "nums[2:4] = [8, 9]  # Atribui a nova sublista \n",
        "print(nums)         # Prints \"[0, 1, 8, 9, 4]\""
      ],
      "execution_count": 51,
      "outputs": [
        {
          "output_type": "stream",
          "name": "stdout",
          "text": [
            "[0, 1, 2, 3, 4]\n",
            "[2, 3]\n",
            "[2, 3, 4]\n",
            "[0, 1]\n",
            "[0, 1, 2, 3, 4]\n",
            "[0, 1, 2, 3]\n",
            "[0, 1, 2, 3]\n",
            "[0, 1, 8, 9, 4]\n"
          ]
        }
      ]
    },
    {
      "cell_type": "markdown",
      "metadata": {
        "id": "UONpMhF4L9f_"
      },
      "source": [
        "### Loops com uma lista"
      ]
    },
    {
      "cell_type": "code",
      "metadata": {
        "id": "4cCOysfWL9gA",
        "outputId": "04fb3aac-5aec-4380-9d46-6ea18006f46d",
        "colab": {
          "base_uri": "https://localhost:8080/"
        }
      },
      "source": [
        "animais = ['cão', 'gato', 'macaco']\n",
        "for animal in animais:\n",
        "    print(animal)"
      ],
      "execution_count": 52,
      "outputs": [
        {
          "output_type": "stream",
          "name": "stdout",
          "text": [
            "cão\n",
            "gato\n",
            "macaco\n"
          ]
        }
      ]
    },
    {
      "cell_type": "markdown",
      "metadata": {
        "id": "H8xsUEFpL9gZ"
      },
      "source": [
        "###Dicionários"
      ]
    },
    {
      "cell_type": "markdown",
      "metadata": {
        "id": "kkjAGMAJL9ga"
      },
      "source": [
        "Um dicionário armazena pares (chave, valor):"
      ]
    },
    {
      "cell_type": "code",
      "metadata": {
        "id": "XBYI1MrYL9gb",
        "outputId": "8e23b252-3421-432d-9359-86ee6dc594f7",
        "colab": {
          "base_uri": "https://localhost:8080/"
        }
      },
      "source": [
        "dic = {'gato': 'felino', 'cão': 'amigo'}  # cria um dicionário\n",
        "print(dic['gato'])  # Pega uma entrada a partir da chave\n",
        "print('cão' in dic)  # Verifica se o dicionário tem uma determinada chave\n",
        "print(type(dic))"
      ],
      "execution_count": 53,
      "outputs": [
        {
          "output_type": "stream",
          "name": "stdout",
          "text": [
            "felino\n",
            "True\n",
            "<class 'dict'>\n"
          ]
        }
      ]
    },
    {
      "cell_type": "code",
      "metadata": {
        "id": "pS7e-G-HL9gf",
        "outputId": "2192798d-e8bf-40f5-ac6f-2a74ee6ac30e",
        "colab": {
          "base_uri": "https://localhost:8080/"
        }
      },
      "source": [
        "dic['peixe'] = 'molhado' # Determina uma nova entrada no dicionário\n",
        "print(dic['peixe'])   \n",
        "print(dic)   "
      ],
      "execution_count": 54,
      "outputs": [
        {
          "output_type": "stream",
          "name": "stdout",
          "text": [
            "molhado\n",
            "{'gato': 'felino', 'cão': 'amigo', 'peixe': 'molhado'}\n"
          ]
        }
      ]
    },
    {
      "cell_type": "code",
      "metadata": {
        "id": "0EItdNBJL9go",
        "outputId": "180d952a-29db-4bb3-e906-fd34bee51df3",
        "colab": {
          "base_uri": "https://localhost:8080/"
        }
      },
      "source": [
        "del dic['peixe']  # Remove um elemento do dicionário\n",
        "print(dic)"
      ],
      "execution_count": 55,
      "outputs": [
        {
          "output_type": "stream",
          "name": "stdout",
          "text": [
            "{'gato': 'felino', 'cão': 'amigo'}\n"
          ]
        }
      ]
    },
    {
      "cell_type": "markdown",
      "metadata": {
        "id": "V9MHfUdvL9g2"
      },
      "source": [
        "###Sets (conjuntos)"
      ]
    },
    {
      "cell_type": "markdown",
      "metadata": {
        "id": "Rpm4UtNpL9g2"
      },
      "source": [
        "Um conjunto (set) é uma coleção não indexada de elementos distintos."
      ]
    },
    {
      "cell_type": "code",
      "metadata": {
        "id": "MmyaniLsL9g2",
        "outputId": "b5b88e33-9c51-44bc-9595-5ffde62d0a7c",
        "colab": {
          "base_uri": "https://localhost:8080/"
        }
      },
      "source": [
        "animais = {'cão', 'gato'}\n",
        "print('gato' in animais)   # verifica se um elemento está no conjunti\n",
        "print('peixe' in animais)  "
      ],
      "execution_count": 56,
      "outputs": [
        {
          "output_type": "stream",
          "name": "stdout",
          "text": [
            "True\n",
            "False\n"
          ]
        }
      ]
    },
    {
      "cell_type": "code",
      "metadata": {
        "id": "ElJEyK86L9g6",
        "outputId": "b68114bc-254b-4c30-e2d8-b3a71f6a9d1f",
        "colab": {
          "base_uri": "https://localhost:8080/"
        }
      },
      "source": [
        "animais.add('peixe')      # Adiciona um elemento\n",
        "print(animais)\n",
        "print(len(animais))   "
      ],
      "execution_count": 57,
      "outputs": [
        {
          "output_type": "stream",
          "name": "stdout",
          "text": [
            "{'cão', 'peixe', 'gato'}\n",
            "3\n"
          ]
        }
      ]
    },
    {
      "cell_type": "code",
      "metadata": {
        "id": "5uGmrxdPL9g9",
        "outputId": "656cf229-7df4-4728-e4ec-1cabd2801c1c",
        "colab": {
          "base_uri": "https://localhost:8080/"
        }
      },
      "source": [
        "animais.add('gato')       # Não adiciona um elemeneto que já existe no conjunto (não faz nada)\n",
        "print(len(animais))       \n",
        "animais.remove('gato')    # Remove um elemento\n",
        "print(animais)       "
      ],
      "execution_count": 58,
      "outputs": [
        {
          "output_type": "stream",
          "name": "stdout",
          "text": [
            "3\n",
            "{'cão', 'peixe'}\n"
          ]
        }
      ]
    },
    {
      "cell_type": "markdown",
      "metadata": {
        "id": "qPsHSKB1L9hF"
      },
      "source": [
        "###Tuplas"
      ]
    },
    {
      "cell_type": "markdown",
      "metadata": {
        "id": "kucc0LKVL9hG"
      },
      "source": [
        "Uma tupla é uma lista ordenada (imutável) de valores. Uma tupla é em muitos aspectos semelhante a uma lista; uma das diferenças mais importantes é que tuplas podem ser usadas como chaves em dicionários e como elementos de conjuntos, enquanto listas não."
      ]
    },
    {
      "cell_type": "code",
      "metadata": {
        "id": "9wHUyTKxL9hH",
        "outputId": "0b4a4df1-993d-403a-edce-3758439badcc",
        "colab": {
          "base_uri": "https://localhost:8080/"
        }
      },
      "source": [
        "d = {(x, x + 1): x for x in range(10)}  # Cria um dicionário com chaves tuplas\n",
        "print(d)\n",
        "t = (5, 6)       # Cria uma tupla\n",
        "print(type(t))\n",
        "print(d[t])       \n",
        "print(d[(1, 2)])"
      ],
      "execution_count": 59,
      "outputs": [
        {
          "output_type": "stream",
          "name": "stdout",
          "text": [
            "{(0, 1): 0, (1, 2): 1, (2, 3): 2, (3, 4): 3, (4, 5): 4, (5, 6): 5, (6, 7): 6, (7, 8): 7, (8, 9): 8, (9, 10): 9}\n",
            "<class 'tuple'>\n",
            "5\n",
            "1\n"
          ]
        }
      ]
    },
    {
      "cell_type": "markdown",
      "metadata": {
        "id": "AXA4jrEOL9hM"
      },
      "source": [
        "###Funções"
      ]
    },
    {
      "cell_type": "markdown",
      "metadata": {
        "id": "WaRms-QfL9hN"
      },
      "source": [
        "Funções em Python são definidas usando a palavra chave `def`."
      ]
    },
    {
      "cell_type": "code",
      "metadata": {
        "id": "kiMDUr58L9hN",
        "outputId": "5366de7a-e792-47b8-fa3b-2e50e0441e4a",
        "colab": {
          "base_uri": "https://localhost:8080/"
        }
      },
      "source": [
        "def sinal(x):\n",
        "    if x > 0:\n",
        "        return 'positivo'\n",
        "    elif x < 0:\n",
        "        return 'negativo'\n",
        "    else:\n",
        "        return 'zero'\n",
        "\n",
        "for x in [-1, 0, 1]:\n",
        "    print(sinal(x))"
      ],
      "execution_count": 60,
      "outputs": [
        {
          "output_type": "stream",
          "name": "stdout",
          "text": [
            "negativo\n",
            "zero\n",
            "positivo\n"
          ]
        }
      ]
    },
    {
      "cell_type": "markdown",
      "metadata": {
        "id": "ObA9PRtQL9hT"
      },
      "source": [
        "###Classes"
      ]
    },
    {
      "cell_type": "markdown",
      "metadata": {
        "id": "hAzL_lTkL9hU"
      },
      "source": [
        "\n",
        "A sintaxe para definir classes em Python é direta:"
      ]
    },
    {
      "cell_type": "code",
      "metadata": {
        "id": "RWdbaGigL9hU",
        "outputId": "c5562619-385d-47b9-e54d-a1945b3c1612",
        "colab": {
          "base_uri": "https://localhost:8080/"
        }
      },
      "source": [
        "class Triangulo(object):\n",
        "\n",
        "    def __init__(self, angulo1, angulo2, angulo3):\n",
        "        self.angulo1 = angulo1\n",
        "        self.angulo2 = angulo2\n",
        "        self.angulo3 = angulo3\n",
        "\n",
        "    def soma_angulos(self):\n",
        "        return self.angulo1 + self.angulo2 + self.angulo3\n",
        "\n",
        "    def check_angulos(self):\n",
        "        if(self.soma_angulos() == 180):\n",
        "            return True\n",
        "        else:\n",
        "            return False\n",
        "\n",
        "figure = Triangulo(30, 40, 50)\n",
        "print(figure.soma_angulos())\n",
        "print(figure.check_angulos())"
      ],
      "execution_count": 61,
      "outputs": [
        {
          "output_type": "stream",
          "name": "stdout",
          "text": [
            "120\n",
            "False\n"
          ]
        }
      ]
    },
    {
      "cell_type": "markdown",
      "metadata": {
        "id": "qjVPLEHYIqwr"
      },
      "source": [
        "###Imports\n",
        "\n",
        "Para importar um módulo utilizamos o import."
      ]
    },
    {
      "cell_type": "code",
      "metadata": {
        "id": "OdjOHphnItW8",
        "outputId": "4c46452e-3c5a-42c2-a56f-5a9a5856502c",
        "colab": {
          "base_uri": "https://localhost:8080/"
        }
      },
      "source": [
        "import math\n",
        "print(math.sqrt(49))"
      ],
      "execution_count": 62,
      "outputs": [
        {
          "output_type": "stream",
          "name": "stdout",
          "text": [
            "7.0\n"
          ]
        }
      ]
    },
    {
      "cell_type": "markdown",
      "metadata": {
        "id": "Rp5EvhATI2-h"
      },
      "source": [
        "\n",
        "O código acima importará todos os módulos de math, para importar apenas o necessário utilizamos from."
      ]
    },
    {
      "cell_type": "code",
      "metadata": {
        "id": "T_TB1BBxI6lh",
        "outputId": "874ddaac-a6ca-4a7a-b127-11afea1019a2",
        "colab": {
          "base_uri": "https://localhost:8080/"
        }
      },
      "source": [
        "from math import sqrt\n",
        "print(math.sqrt(49))"
      ],
      "execution_count": 63,
      "outputs": [
        {
          "output_type": "stream",
          "name": "stdout",
          "text": [
            "7.0\n"
          ]
        }
      ]
    }
  ]
}